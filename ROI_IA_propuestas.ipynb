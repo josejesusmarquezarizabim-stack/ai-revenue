{
  "nbformat": 4,
  "nbformat_minor": 0,
  "metadata": {
    "colab": {
      "provenance": [],
      "authorship_tag": "ABX9TyOK0uvMxJfDpiuFfPAozDHB",
      "include_colab_link": true
    },
    "kernelspec": {
      "name": "python3",
      "display_name": "Python 3"
    },
    "language_info": {
      "name": "python"
    }
  },
  "cells": [
    {
      "cell_type": "markdown",
      "metadata": {
        "id": "view-in-github",
        "colab_type": "text"
      },
      "source": [
        "<a href=\"https://colab.research.google.com/github/josejesusmarquezarizabim-stack/ai-revenue/blob/main/ROI_IA_propuestas.ipynb\" target=\"_parent\"><img src=\"https://colab.research.google.com/assets/colab-badge.svg\" alt=\"Open In Colab\"/></a>"
      ]
    },
    {
      "cell_type": "code",
      "execution_count": 1,
      "metadata": {
        "colab": {
          "base_uri": "https://localhost:8080/"
        },
        "id": "hnglKHaIInFj",
        "outputId": "5555bb29-94d9-4380-c2d7-7f40feed9cf2"
      },
      "outputs": [
        {
          "output_type": "stream",
          "name": "stdout",
          "text": [
            "Mounted at /content/drive\n",
            "Usando carpeta de trabajo: /content/drive/MyDrive/ai-revenue\n"
          ]
        }
      ],
      "source": [
        "from pathlib import Path\n",
        "def en_colab():\n",
        "    try:\n",
        "        import google.colab  # noqa: F401\n",
        "        return True\n",
        "    except Exception:\n",
        "        return False\n",
        "if en_colab():\n",
        "    from google.colab import drive\n",
        "    drive.mount('/content/drive')\n",
        "    ROOT = Path('/content/drive/MyDrive/ai-revenue')\n",
        "else:\n",
        "    ROOT = Path('/workspaces/ai-revenue')  # Codespaces (VS Code)\n",
        "DATA = ROOT / 'data_sintetica'\n",
        "DATA.mkdir(parents=True, exist_ok=True)\n",
        "print('Usando carpeta de trabajo:', ROOT)\n"
      ]
    }
  ]
}